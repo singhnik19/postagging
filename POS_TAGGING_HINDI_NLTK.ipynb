{
 "cells": [
  {
   "cell_type": "code",
   "execution_count": 1,
   "metadata": {},
   "outputs": [],
   "source": [
    "import nltk"
   ]
  },
  {
   "cell_type": "code",
   "execution_count": 2,
   "metadata": {},
   "outputs": [],
   "source": [
    "from nltk.tag import tnt\n",
    "from nltk.corpus import indian\n",
    "import nltk\n",
    "import pandas as pd\n",
    "import numpy as np"
   ]
  },
  {
   "cell_type": "code",
   "execution_count": 3,
   "metadata": {},
   "outputs": [],
   "source": [
    "text = \"महेंद्र सिंह धोनी भारतीय क्रिकेट टीम के सबसे सफल कप्तान हैं ।\""
   ]
  },
  {
   "cell_type": "code",
   "execution_count": 4,
   "metadata": {},
   "outputs": [],
   "source": [
    "\n",
    "def hindi_model():\n",
    "    train_data = indian.tagged_sents('hindi.pos')\n",
    "    tnt_pos_tagger = tnt.TnT()\n",
    "    tnt_pos_tagger.train(train_data)\n",
    "    return tnt_pos_tagger"
   ]
  },
  {
   "cell_type": "code",
   "execution_count": 5,
   "metadata": {},
   "outputs": [
    {
     "data": {
      "text/plain": [
       "['महेंद्र',\n",
       " 'सिंह',\n",
       " 'धोनी',\n",
       " 'भारतीय',\n",
       " 'क्रिकेट',\n",
       " 'टीम',\n",
       " 'के',\n",
       " 'सबसे',\n",
       " 'सफल',\n",
       " 'कप्तान',\n",
       " 'हैं',\n",
       " '।']"
      ]
     },
     "execution_count": 5,
     "metadata": {},
     "output_type": "execute_result"
    }
   ],
   "source": [
    "nltk.word_tokenize(text)"
   ]
  },
  {
   "cell_type": "code",
   "execution_count": 6,
   "metadata": {},
   "outputs": [
    {
     "name": "stdout",
     "output_type": "stream",
     "text": [
      "महेंद्र  ==>  Unk  \n",
      "सिंह  ==>  NNP  \n",
      "धोनी  ==>  Unk  \n",
      "भारतीय  ==>  NNC  \n",
      "क्रिकेट  ==>  NNC  \n",
      "टीम  ==>  NN  \n",
      "के  ==>  PREP  \n",
      "सबसे  ==>  INTF  \n",
      "सफल  ==>  JJ  \n",
      "कप्तान  ==>  NN  \n",
      "हैं  ==>  VFM  \n",
      "।  ==>  PUNC  \n"
     ]
    }
   ],
   "source": [
    "\n",
    "model = hindi_model()\n",
    "new_tagged = (model.tag(nltk.word_tokenize(text)))\n",
    "#print(new_tagged)\n",
    "array=np.array(new_tagged)\n",
    "for i in array:\n",
    "    print(i[0],\" ==> \", i[1],\" \")"
   ]
  },
  {
   "cell_type": "code",
   "execution_count": null,
   "metadata": {},
   "outputs": [],
   "source": []
  }
 ],
 "metadata": {
  "kernelspec": {
   "display_name": "Python 3",
   "language": "python",
   "name": "python3"
  },
  "language_info": {
   "codemirror_mode": {
    "name": "ipython",
    "version": 3
   },
   "file_extension": ".py",
   "mimetype": "text/x-python",
   "name": "python",
   "nbconvert_exporter": "python",
   "pygments_lexer": "ipython3",
   "version": "3.7.4"
  }
 },
 "nbformat": 4,
 "nbformat_minor": 4
}
